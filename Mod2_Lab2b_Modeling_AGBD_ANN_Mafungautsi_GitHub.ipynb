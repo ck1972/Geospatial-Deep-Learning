{
  "nbformat": 4,
  "nbformat_minor": 0,
  "metadata": {
    "colab": {
      "provenance": [],
      "include_colab_link": true
    },
    "kernelspec": {
      "name": "python3",
      "display_name": "Python 3"
    },
    "language_info": {
      "name": "python"
    }
  },
  "cells": [
    {
      "cell_type": "markdown",
      "metadata": {
        "id": "view-in-github",
        "colab_type": "text"
      },
      "source": [
        "<a href=\"https://colab.research.google.com/github/ck1972/Geospatial-Deep-Learning/blob/main/Mod2_Lab2b_Modeling_AGBD_ANN_Mafungautsi_GitHub.ipynb\" target=\"_parent\"><img src=\"https://colab.research.google.com/assets/colab-badge.svg\" alt=\"Open In Colab\"/></a>"
      ]
    },
    {
      "cell_type": "markdown",
      "source": [
        "# **Lab 2b. Introduction to Shallow Neural Networks for Biomass Modeling: A Simple ANN Approach**\n",
        "## **Setup**\n",
        "### Install libraries"
      ],
      "metadata": {
        "id": "rV50bKbXb2T1"
      }
    },
    {
      "cell_type": "code",
      "source": [
        "# Install some packages\n",
        "!pip install rasterio\n",
        "!pip install earthpy"
      ],
      "metadata": {
        "id": "Zhn2jd8coGVn"
      },
      "execution_count": null,
      "outputs": []
    },
    {
      "cell_type": "code",
      "execution_count": null,
      "metadata": {
        "id": "n8X3zdcPnIdv"
      },
      "outputs": [],
      "source": [
        "# Import libraries and modules\n",
        "import numpy as np\n",
        "import pandas as pd\n",
        "import matplotlib.pyplot as plt\n",
        "from sklearn.neural_network import MLPRegressor\n",
        "from sklearn.metrics import mean_squared_error, r2_score\n",
        "from sklearn.preprocessing import MinMaxScaler\n",
        "from sklearn.model_selection import train_test_split\n",
        "import rasterio\n",
        "import earthpy.plot as ep"
      ]
    },
    {
      "cell_type": "code",
      "source": [
        "# Mount Google Drive\n",
        "from google.colab import drive\n",
        "drive.mount('/content/drive')"
      ],
      "metadata": {
        "colab": {
          "base_uri": "https://localhost:8080/"
        },
        "id": "QtX0EzJX6EU5",
        "outputId": "b930bc7f-4a53-442d-c980-9c9e1b2ee716"
      },
      "execution_count": null,
      "outputs": [
        {
          "output_type": "stream",
          "name": "stdout",
          "text": [
            "Mounted at /content/drive\n"
          ]
        }
      ]
    },
    {
      "cell_type": "markdown",
      "source": [
        "## Load and prepare data\n",
        "### Define variables and data paths"
      ],
      "metadata": {
        "id": "tgFrkzAkflo7"
      }
    },
    {
      "cell_type": "code",
      "source": [
        "# Define predictor and target variables, and the data paths\n",
        "FEATURES = ['B2', 'B3', 'B4', 'B5', 'B6', 'B7', 'B8', 'B11', 'B12', 'NDVI', 'SAVI', 'RESI']\n",
        "LABEL = ['agbd']\n",
        "SAMPLE_PATH = '/content/drive/My Drive/Maf_Datasets/TA_AGDD_GEDI_L4A_2022.csv' # With filtered agbd\n",
        "IMAGE_PATH = '/content/drive/My Drive/Maf_Datasets/S2_predictors_2022.tif'"
      ],
      "metadata": {
        "id": "TdkSnVNC4uM4"
      },
      "execution_count": null,
      "outputs": []
    },
    {
      "cell_type": "markdown",
      "source": [
        "### Load and visualize Sentinel-2 image"
      ],
      "metadata": {
        "id": "IAUl8Sv1f0nH"
      }
    },
    {
      "cell_type": "code",
      "source": [
        "# Load image\n",
        "image = rasterio.open(IMAGE_PATH)\n",
        "bandNum = image.count\n",
        "height = image.height\n",
        "width = image.width\n",
        "crs = image.crs\n",
        "transform = image.transform\n",
        "shape = (height, width)\n",
        "\n",
        "image_vis = []\n",
        "for x in [5, 6, 4]:\n",
        "  image_vis.append(image.read(x))\n",
        "image_vis = np.stack(image_vis)\n",
        "\n",
        "plot_size = (8, 8)\n",
        "ep.plot_rgb(\n",
        "  image_vis,\n",
        "  figsize=plot_size,\n",
        "  stretch=True,\n",
        ")"
      ],
      "metadata": {
        "id": "LWVstj8mDD9_"
      },
      "execution_count": null,
      "outputs": []
    },
    {
      "cell_type": "markdown",
      "source": [
        "##  Load sample data"
      ],
      "metadata": {
        "id": "ueWhiyrRf4a4"
      }
    },
    {
      "cell_type": "code",
      "source": [
        "# Read sample\n",
        "samples = pd.read_csv(SAMPLE_PATH)[FEATURES + LABEL]\n",
        "samples"
      ],
      "metadata": {
        "id": "wv2b2FVq6CYT"
      },
      "execution_count": null,
      "outputs": []
    },
    {
      "cell_type": "markdown",
      "source": [
        "## Split and prepare data"
      ],
      "metadata": {
        "id": "FN1d7rWDf-IH"
      }
    },
    {
      "cell_type": "code",
      "source": [
        "# Split into train and test\n",
        "train, test = train_test_split(samples, test_size=0.2, shuffle=True)\n",
        "\n",
        "# Get varibles input and output\n",
        "train_input = train[FEATURES].to_numpy()\n",
        "test_input = test[FEATURES].to_numpy()\n",
        "train_output = train[LABEL].to_numpy().astype(float) / 90\n",
        "test_output = test[LABEL].to_numpy().astype(float) / 90\n",
        "\n",
        "# Show the data shape\n",
        "print(f'Train features: {train_input.shape}\\nTest features: {test_input.shape}\\nTrain label: {train_output.shape}\\nTest label: {test_output.shape}')"
      ],
      "metadata": {
        "id": "Uk9ZYtuy6P0H"
      },
      "execution_count": null,
      "outputs": []
    },
    {
      "cell_type": "markdown",
      "source": [
        "## Build and train a shallow ANN model\n",
        "### ANN model architecture"
      ],
      "metadata": {
        "id": "0zj1B3X0PYrV"
      }
    },
    {
      "cell_type": "code",
      "source": [
        "# Define the shallow neural network model\n",
        "# One hidden layer with 8 neurons, using ReLU activation and Adam optimizer\n",
        "model = MLPRegressor(hidden_layer_sizes=(8,),\n",
        "                     activation='relu',\n",
        "                     solver='adam',\n",
        "                     learning_rate_init=0.01,\n",
        "                     max_iter=500,\n",
        "                     random_state=42)"
      ],
      "metadata": {
        "id": "dSUBp0yJbNuu"
      },
      "execution_count": null,
      "outputs": []
    },
    {
      "cell_type": "markdown",
      "source": [
        "### Train the model"
      ],
      "metadata": {
        "id": "4xe2UVIzbSN6"
      }
    },
    {
      "cell_type": "code",
      "source": [
        "# Train the model\n",
        "model.fit(train_input, train_output.ravel())"
      ],
      "metadata": {
        "id": "nVZ22-31bSm0"
      },
      "execution_count": null,
      "outputs": []
    },
    {
      "cell_type": "markdown",
      "source": [
        "### Predict on test data"
      ],
      "metadata": {
        "id": "B1kzTWkCbX33"
      }
    },
    {
      "cell_type": "code",
      "source": [
        "# Predict on test data\n",
        "predictions = model.predict(test_input)\n",
        "\n",
        "# Rescale back to original AGBD scale\n",
        "true_agbd = test_output * 90\n",
        "pred_agbd = predictions * 90"
      ],
      "metadata": {
        "id": "PNnvPb3dbbnq"
      },
      "execution_count": null,
      "outputs": []
    },
    {
      "cell_type": "markdown",
      "source": [
        "### Evaluate model performance"
      ],
      "metadata": {
        "id": "BFb0x4QsbeKs"
      }
    },
    {
      "cell_type": "code",
      "source": [
        "# Evaluate model performance\n",
        "mse = mean_squared_error(true_agbd, pred_agbd)\n",
        "rmse = np.sqrt(mse)\n",
        "r2 = r2_score(true_agbd, pred_agbd)\n",
        "\n",
        "print(f\"RMSE: {rmse:.2f}\")\n",
        "print(f\"R² Score: {r2:.2f}\")\n",
        "\n",
        "# Plot true vs predicted AGBD\n",
        "plt.figure(figsize=(6,6))\n",
        "plt.scatter(true_agbd, pred_agbd, alpha=0.5, edgecolor='k')\n",
        "plt.plot([true_agbd.min(), true_agbd.max()], [true_agbd.min(), true_agbd.max()], 'r--')\n",
        "plt.xlabel('True AGBD')\n",
        "plt.ylabel('Predicted AGBD')\n",
        "plt.title('True vs Predicted AGBD (ANN - scikit-learn)')\n",
        "plt.grid(True)\n",
        "plt.show()"
      ],
      "metadata": {
        "id": "dnmMY625dcY9"
      },
      "execution_count": null,
      "outputs": []
    },
    {
      "cell_type": "markdown",
      "source": [
        "## Predict AGBD map"
      ],
      "metadata": {
        "id": "QgDHttvrg_nb"
      }
    },
    {
      "cell_type": "code",
      "source": [
        "# Read and reshape image input\n",
        "image_input = []\n",
        "for x in range(12):  # 12 predictors\n",
        "    image_input.append(image.read(x + 1))  # rasterio is 1-indexed\n",
        "\n",
        "image_input = np.stack(image_input)  # Shape: (12, height, width)\n",
        "image_input_flat = image_input.reshape(12, -1).T  # Shape: (height*width, 12)\n",
        "\n",
        "# Handle NaNs\n",
        "image_input_flat = np.nan_to_num(image_input_flat, nan=0.0)  # Replace NaNs with 0\n",
        "\n",
        "# Predict and rescale\n",
        "prediction_flat = model.predict(image_input_flat) * 90  # Back to AGBD\n",
        "prediction_map = prediction_flat.reshape(shape[0], shape[1])  # Reshape to image\n",
        "\n",
        "# Visualize\n",
        "ep.plot_bands(prediction_map, cmap='YlGn', figsize=(10, 10), title='Predicted AGBD Map')\n"
      ],
      "metadata": {
        "id": "UtRBLkHieI4k"
      },
      "execution_count": null,
      "outputs": []
    },
    {
      "cell_type": "markdown",
      "source": [
        "## Save AGB map"
      ],
      "metadata": {
        "id": "uQ5AssxzhH8H"
      }
    },
    {
      "cell_type": "code",
      "source": [
        "# Define output path\n",
        "output_path = '/content/drive/MyDrive/Maf_Datasets/ANN_agbd_2022.tif'\n",
        "\n",
        "# Save prediction_map to GeoTIFF\n",
        "with rasterio.open(\n",
        "    output_path,\n",
        "    'w',\n",
        "    driver='GTiff',\n",
        "    height=prediction_map.shape[0],\n",
        "    width=prediction_map.shape[1],\n",
        "    count=1,\n",
        "    dtype='float32',\n",
        "    crs=image.crs,\n",
        "    transform=image.transform\n",
        ") as dst:\n",
        "    dst.write(prediction_map.astype('float32'), 1)\n",
        "\n",
        "print(f\"Predicted AGBD map saved to: {output_path}\")"
      ],
      "metadata": {
        "id": "Xo7oD4FgIeIG"
      },
      "execution_count": null,
      "outputs": []
    },
    {
      "cell_type": "markdown",
      "source": [
        "## Explainble ML"
      ],
      "metadata": {
        "id": "CtQ3nqMCTMa9"
      }
    },
    {
      "cell_type": "code",
      "source": [
        "# Import the shap library\n",
        "import shap\n",
        "\n",
        "# Select a background dataset (a small sample from training data)\n",
        "background = train_input[np.random.choice(train_input.shape[0], 1000, replace=False)]\n",
        "\n",
        "# KernelExplainer is model-agnostic, works for any black-box model\n",
        "explainer = shap.KernelExplainer(model.predict, background)\n",
        "\n",
        "# Explain predictions on a subset of test data\n",
        "shap_values = explainer.shap_values(test_input[:1000])  # Reduce size if slow"
      ],
      "metadata": {
        "id": "eQ55N3RITpmN"
      },
      "execution_count": null,
      "outputs": []
    },
    {
      "cell_type": "markdown",
      "source": [
        "### Plot global SHAP values"
      ],
      "metadata": {
        "id": "dHYmbx9HeBmn"
      }
    },
    {
      "cell_type": "code",
      "source": [
        "# SHAP summary plot\n",
        "shap.summary_plot(shap_values, test_input[:1000], feature_names=FEATURES)"
      ],
      "metadata": {
        "id": "xWL923FoUl6H"
      },
      "execution_count": null,
      "outputs": []
    },
    {
      "cell_type": "markdown",
      "source": [
        "### Plot local SHAP values"
      ],
      "metadata": {
        "id": "mtMkkcODU7yL"
      }
    },
    {
      "cell_type": "code",
      "source": [
        "# Get SHAP values for a single test input (e.g., index 100)\n",
        "index = 100\n",
        "single_input = test_input[index]\n",
        "single_shap_values = shap_values[index]\n",
        "\n",
        "# Create a SHAP Explanation object\n",
        "explanation = shap.Explanation(\n",
        "    values=single_shap_values,\n",
        "    base_values=explainer.expected_value,\n",
        "    data=single_input,\n",
        "    feature_names=FEATURES\n",
        ")\n",
        "\n",
        "# Generate waterfall plot\n",
        "shap.plots.waterfall(explanation)"
      ],
      "metadata": {
        "id": "kPjlZV1FYBw_"
      },
      "execution_count": null,
      "outputs": []
    }
  ]
}