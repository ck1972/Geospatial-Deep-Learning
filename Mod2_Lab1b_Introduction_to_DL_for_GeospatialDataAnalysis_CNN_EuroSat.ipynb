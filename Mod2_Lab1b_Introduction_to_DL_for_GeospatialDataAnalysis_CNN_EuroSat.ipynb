{
  "nbformat": 4,
  "nbformat_minor": 0,
  "metadata": {
    "colab": {
      "provenance": [],
      "authorship_tag": "ABX9TyMNjx+yl5JUrui6PQeHbrfv",
      "include_colab_link": true
    },
    "kernelspec": {
      "name": "python3",
      "display_name": "Python 3"
    },
    "language_info": {
      "name": "python"
    }
  },
  "cells": [
    {
      "cell_type": "markdown",
      "metadata": {
        "id": "view-in-github",
        "colab_type": "text"
      },
      "source": [
        "<a href=\"https://colab.research.google.com/github/ck1972/Geospatial-Deep-Learning/blob/main/Mod2_Lab1b_Introduction_to_DL_for_GeospatialDataAnalysis_CNN_EuroSat.ipynb\" target=\"_parent\"><img src=\"https://colab.research.google.com/assets/colab-badge.svg\" alt=\"Open In Colab\"/></a>"
      ]
    },
    {
      "cell_type": "markdown",
      "source": [
        "# **Lab 1b.Deep Learning for Geospatial Data Analysis: Simple CNN on EuroSAT Dataset**\n"
      ],
      "metadata": {
        "id": "hcepVGDWI1l2"
      }
    },
    {
      "cell_type": "markdown",
      "source": [
        "## Setup\n",
        "### Install & import\n"
      ],
      "metadata": {
        "id": "MjzQROcscR8S"
      }
    },
    {
      "cell_type": "code",
      "source": [
        "# Install & import libraries\n",
        "# !pip install -q tensorflow matplotlib numpy tensorflow-datasets\n",
        "import numpy as np\n",
        "import matplotlib.pyplot as plt\n",
        "import tensorflow as tf\n",
        "import tensorflow_datasets as tfds\n",
        "from tensorflow.keras.models import Sequential\n",
        "from tensorflow.keras.layers import Dense, Conv2D, MaxPooling2D, Flatten\n",
        "from tensorflow.keras.utils import plot_model\n",
        "from sklearn.metrics import confusion_matrix, ConfusionMatrixDisplay"
      ],
      "metadata": {
        "id": "lhYW6u3p7_G1"
      },
      "execution_count": null,
      "outputs": []
    },
    {
      "cell_type": "markdown",
      "source": [
        "## Define a simple CNN Model\n",
        "\n",
        "\n"
      ],
      "metadata": {
        "id": "uF-xY3Av8t3W"
      }
    },
    {
      "cell_type": "code",
      "source": [
        "# Simple CNN Architecture (TensorFlow / Keras)\n",
        "model = Sequential([\n",
        "    Conv2D(16, (3, 3), activation='relu', input_shape=(64, 64, 3)),\n",
        "    MaxPooling2D(2, 2),\n",
        "    Conv2D(32, (3, 3), activation='relu'),\n",
        "    MaxPooling2D(2, 2),\n",
        "    Flatten(),\n",
        "    Dense(64, activation='relu'),\n",
        "    Dense(10, activation='softmax')\n",
        "])\n",
        "\n",
        "model.summary()"
      ],
      "metadata": {
        "id": "C6zEu7H48unX"
      },
      "execution_count": null,
      "outputs": []
    },
    {
      "cell_type": "markdown",
      "source": [
        "## Compile and train a simple CNN"
      ],
      "metadata": {
        "id": "6nj_F-kB81dW"
      }
    },
    {
      "cell_type": "code",
      "source": [
        "# Load and Preprocess EuroSAT Data\n",
        "print(\"\\nLoading EuroSAT dataset...\")\n",
        "\n",
        "dataset, info = tfds.load('eurosat', with_info=True, as_supervised=True)\n",
        "train_ds, test_ds = dataset['train'], dataset['train'].take(500)  # use a subset for quick training\n",
        "\n",
        "# Preprocessing function\n",
        "def preprocess(image, label):\n",
        "    image = tf.image.resize(image, (64, 64))\n",
        "    image = tf.cast(image, tf.float32) / 255.0\n",
        "    return image, label\n",
        "\n",
        "train_ds = train_ds.map(preprocess).shuffle(1000).batch(32)\n",
        "test_ds = test_ds.map(preprocess).batch(32)\n",
        "\n",
        "# Train the CNN on EuroSAT\n",
        "print(\"\\nTraining model...\")\n",
        "model.compile(optimizer='adam',\n",
        "              loss='sparse_categorical_crossentropy',\n",
        "              metrics=['accuracy'])\n",
        "\n",
        "history = model.fit(train_ds, epochs=5, validation_data=test_ds)\n",
        "\n",
        "# Plot Accuracy\n",
        "plt.figure(figsize=(10, 4))\n",
        "plt.plot(history.history['accuracy'], label='Train Accuracy')\n",
        "plt.plot(history.history['val_accuracy'], label='Validation Accuracy')\n",
        "plt.title(\"Model Accuracy on EuroSAT\")\n",
        "plt.xlabel(\"Epoch\")\n",
        "plt.ylabel(\"Accuracy\")\n",
        "plt.legend()\n",
        "plt.grid(True)\n",
        "plt.show()"
      ],
      "metadata": {
        "id": "tp3y-MqV8196"
      },
      "execution_count": null,
      "outputs": []
    },
    {
      "cell_type": "markdown",
      "source": [
        "##  Visualize prediction"
      ],
      "metadata": {
        "id": "G4U9KJ8rJvbU"
      }
    },
    {
      "cell_type": "code",
      "source": [
        "#  Visualize pPredictions on EuroSAT\n",
        "class_names = info.features['label'].names\n",
        "\n",
        "plt.figure(figsize=(12, 12))\n",
        "for images, labels in test_ds.take(1):\n",
        "    predictions = model.predict(images)\n",
        "    for i in range(9):\n",
        "        ax = plt.subplot(3, 3, i + 1)\n",
        "        plt.imshow(images[i].numpy())\n",
        "        pred_label = np.argmax(predictions[i])\n",
        "        true_label = labels[i].numpy()\n",
        "        plt.title(f\"True: {class_names[true_label]}\\nPred: {class_names[pred_label]}\")\n",
        "        plt.axis(\"off\")\n",
        "plt.suptitle(\"EuroSAT Model Predictions\", fontsize=16)\n",
        "plt.tight_layout()\n",
        "plt.show()"
      ],
      "metadata": {
        "id": "MnaiOoX2B9gR"
      },
      "execution_count": null,
      "outputs": []
    }
  ]
}