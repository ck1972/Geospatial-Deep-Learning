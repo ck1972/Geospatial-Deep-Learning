{
  "nbformat": 4,
  "nbformat_minor": 0,
  "metadata": {
    "colab": {
      "provenance": [],
      "authorship_tag": "ABX9TyP3YYS4EW7JnUPN5GjoLYAh",
      "include_colab_link": true
    },
    "kernelspec": {
      "name": "python3",
      "display_name": "Python 3"
    },
    "language_info": {
      "name": "python"
    }
  },
  "cells": [
    {
      "cell_type": "markdown",
      "metadata": {
        "id": "view-in-github",
        "colab_type": "text"
      },
      "source": [
        "<a href=\"https://colab.research.google.com/github/ck1972/Geospatial-Deep-Learning/blob/main/Mod2_Lab1a_Introduction_to_DL_for_GeospatialDataAnalaysis_CNN.ipynb\" target=\"_parent\"><img src=\"https://colab.research.google.com/assets/colab-badge.svg\" alt=\"Open In Colab\"/></a>"
      ]
    },
    {
      "cell_type": "markdown",
      "source": [
        "# **Lab 1a. Introduction to Deep Learning for Geospatial Data Analaysis: A Simple CNN Model**\n"
      ],
      "metadata": {
        "id": "hcepVGDWI1l2"
      }
    },
    {
      "cell_type": "markdown",
      "source": [
        "## Setup\n",
        "### Install & import"
      ],
      "metadata": {
        "id": "MjzQROcscR8S"
      }
    },
    {
      "cell_type": "code",
      "source": [
        "# Install & import libraries\n",
        "# !pip install -q tensorflow matplotlib numpy tensorflow-datasets\n",
        "import numpy as np\n",
        "import matplotlib.pyplot as plt\n",
        "import tensorflow as tf\n",
        "import tensorflow_datasets as tfds\n",
        "from tensorflow.keras.models import Sequential\n",
        "from tensorflow.keras.layers import Dense, Conv2D, MaxPooling2D, Flatten\n",
        "from tensorflow.keras.utils import plot_model\n",
        "from sklearn.metrics import confusion_matrix, ConfusionMatrixDisplay"
      ],
      "metadata": {
        "id": "lhYW6u3p7_G1"
      },
      "execution_count": 1,
      "outputs": []
    },
    {
      "cell_type": "markdown",
      "source": [
        "## Scalars, vectors, matrices, and tensors"
      ],
      "metadata": {
        "id": "1v9LINc-8DtN"
      }
    },
    {
      "cell_type": "code",
      "source": [
        "# Scalar\n",
        "scalar = 5\n",
        "print(\"Scalar:\", scalar)\n",
        "\n",
        "# Vector\n",
        "vector = np.array([10, 20, 30])\n",
        "print(\"\\nVector:\", vector)\n",
        "\n",
        "# Matrix\n",
        "matrix = np.array([[1, 2], [3, 4]])\n",
        "print(\"\\nMatrix:\\n\", matrix)\n",
        "\n",
        "# Tensor (3D)\n",
        "tensor = np.random.rand(3, 4, 2)\n",
        "print(\"\\nTensor shape:\", tensor.shape)\n",
        "\n",
        "# Visualize matrix and tensor slices\n",
        "plt.imshow(matrix, cmap='Blues')\n",
        "plt.title(\"Matrix Visualization\")\n",
        "plt.colorbar()\n",
        "plt.show()\n",
        "\n",
        "plt.imshow(tensor[:, :, 0], cmap='Greens')\n",
        "plt.title(\"Tensor - First Channel\")\n",
        "plt.colorbar()\n",
        "plt.show()"
      ],
      "metadata": {
        "id": "XvnTUNOg8EJI"
      },
      "execution_count": null,
      "outputs": []
    },
    {
      "cell_type": "markdown",
      "source": [
        "## Convolution operation visualization"
      ],
      "metadata": {
        "id": "PmK7cUFo8Vt4"
      }
    },
    {
      "cell_type": "code",
      "source": [
        "# Convolution Operation Visualization (with NumPy)\n",
        "def apply_convolution(image, kernel):\n",
        "    from scipy.signal import convolve2d\n",
        "    return convolve2d(image, kernel, mode='valid')\n",
        "\n",
        "image = np.array([\n",
        "    [1, 2, 3, 0],\n",
        "    [4, 5, 6, 1],\n",
        "    [7, 8, 9, 0],\n",
        "    [1, 2, 3, 4]\n",
        "])\n",
        "\n",
        "kernel = np.array([\n",
        "    [1, 0],\n",
        "    [0, -1]\n",
        "])\n",
        "\n",
        "conv_result = apply_convolution(image, kernel)\n",
        "\n",
        "plt.subplot(1, 2, 1)\n",
        "plt.title(\"Original Image\")\n",
        "plt.imshow(image, cmap='gray')\n",
        "\n",
        "plt.subplot(1, 2, 2)\n",
        "plt.title(\"After Convolution\")\n",
        "plt.imshow(conv_result, cmap='gray')\n",
        "plt.show()"
      ],
      "metadata": {
        "id": "vhNVSy3A8WHR"
      },
      "execution_count": null,
      "outputs": []
    }
  ]
}