{
  "nbformat": 4,
  "nbformat_minor": 0,
  "metadata": {
    "colab": {
      "provenance": [],
      "gpuType": "T4",
      "include_colab_link": true
    },
    "kernelspec": {
      "name": "python3",
      "display_name": "Python 3"
    },
    "language_info": {
      "name": "python"
    },
    "accelerator": "GPU"
  },
  "cells": [
    {
      "cell_type": "markdown",
      "metadata": {
        "id": "view-in-github",
        "colab_type": "text"
      },
      "source": [
        "<a href=\"https://colab.research.google.com/github/ck1972/Geospatial-Deep-Learning/blob/main/Mod2_Lab2c_Modeling_AGBD_1D_CNN_for_AGBD_Prediction_Model1_Mafungautsi_Ver1_01.ipynb\" target=\"_parent\"><img src=\"https://colab.research.google.com/assets/colab-badge.svg\" alt=\"Open In Colab\"/></a>"
      ]
    },
    {
      "cell_type": "markdown",
      "source": [
        "# **Lab 2c. Modeling Aboveground Biomass Density (AGBD) using 1D Convolutional Neural Network (1D CNN) for AGBD Prediction Model**\n",
        "## Setup\n",
        "### Install libraries"
      ],
      "metadata": {
        "id": "rV50bKbXb2T1"
      }
    },
    {
      "cell_type": "code",
      "source": [
        "# Install some packages\n",
        "!pip install rasterio\n",
        "!pip install earthpy"
      ],
      "metadata": {
        "id": "Zhn2jd8coGVn",
        "colab": {
          "base_uri": "https://localhost:8080/"
        },
        "outputId": "6a61720d-b339-4e86-92e6-ed2511060169"
      },
      "execution_count": null,
      "outputs": [
        {
          "output_type": "stream",
          "name": "stdout",
          "text": [
            "Collecting rasterio\n",
            "  Downloading rasterio-1.4.3-cp311-cp311-manylinux_2_17_x86_64.manylinux2014_x86_64.whl.metadata (9.1 kB)\n",
            "Collecting affine (from rasterio)\n",
            "  Downloading affine-2.4.0-py3-none-any.whl.metadata (4.0 kB)\n",
            "Requirement already satisfied: attrs in /usr/local/lib/python3.11/dist-packages (from rasterio) (25.3.0)\n",
            "Requirement already satisfied: certifi in /usr/local/lib/python3.11/dist-packages (from rasterio) (2025.1.31)\n",
            "Requirement already satisfied: click>=4.0 in /usr/local/lib/python3.11/dist-packages (from rasterio) (8.1.8)\n",
            "Collecting cligj>=0.5 (from rasterio)\n",
            "  Downloading cligj-0.7.2-py3-none-any.whl.metadata (5.0 kB)\n",
            "Requirement already satisfied: numpy>=1.24 in /usr/local/lib/python3.11/dist-packages (from rasterio) (2.0.2)\n",
            "Collecting click-plugins (from rasterio)\n",
            "  Downloading click_plugins-1.1.1-py2.py3-none-any.whl.metadata (6.4 kB)\n",
            "Requirement already satisfied: pyparsing in /usr/local/lib/python3.11/dist-packages (from rasterio) (3.2.3)\n",
            "Downloading rasterio-1.4.3-cp311-cp311-manylinux_2_17_x86_64.manylinux2014_x86_64.whl (22.2 MB)\n",
            "\u001b[2K   \u001b[90m━━━━━━━━━━━━━━━━━━━━━━━━━━━━━━━━━━━━━━━━\u001b[0m \u001b[32m22.2/22.2 MB\u001b[0m \u001b[31m32.2 MB/s\u001b[0m eta \u001b[36m0:00:00\u001b[0m\n",
            "\u001b[?25hDownloading cligj-0.7.2-py3-none-any.whl (7.1 kB)\n",
            "Downloading affine-2.4.0-py3-none-any.whl (15 kB)\n",
            "Downloading click_plugins-1.1.1-py2.py3-none-any.whl (7.5 kB)\n",
            "Installing collected packages: cligj, click-plugins, affine, rasterio\n",
            "Successfully installed affine-2.4.0 click-plugins-1.1.1 cligj-0.7.2 rasterio-1.4.3\n",
            "Collecting earthpy\n",
            "  Downloading earthpy-0.9.4-py3-none-any.whl.metadata (9.2 kB)\n",
            "Requirement already satisfied: geopandas in /usr/local/lib/python3.11/dist-packages (from earthpy) (1.0.1)\n",
            "Requirement already satisfied: matplotlib>=2.0.0 in /usr/local/lib/python3.11/dist-packages (from earthpy) (3.10.0)\n",
            "Requirement already satisfied: numpy>=1.14.0 in /usr/local/lib/python3.11/dist-packages (from earthpy) (2.0.2)\n",
            "Requirement already satisfied: rasterio in /usr/local/lib/python3.11/dist-packages (from earthpy) (1.4.3)\n",
            "Requirement already satisfied: scikit-image in /usr/local/lib/python3.11/dist-packages (from earthpy) (0.25.2)\n",
            "Requirement already satisfied: requests in /usr/local/lib/python3.11/dist-packages (from earthpy) (2.32.3)\n",
            "Requirement already satisfied: contourpy>=1.0.1 in /usr/local/lib/python3.11/dist-packages (from matplotlib>=2.0.0->earthpy) (1.3.2)\n",
            "Requirement already satisfied: cycler>=0.10 in /usr/local/lib/python3.11/dist-packages (from matplotlib>=2.0.0->earthpy) (0.12.1)\n",
            "Requirement already satisfied: fonttools>=4.22.0 in /usr/local/lib/python3.11/dist-packages (from matplotlib>=2.0.0->earthpy) (4.57.0)\n",
            "Requirement already satisfied: kiwisolver>=1.3.1 in /usr/local/lib/python3.11/dist-packages (from matplotlib>=2.0.0->earthpy) (1.4.8)\n",
            "Requirement already satisfied: packaging>=20.0 in /usr/local/lib/python3.11/dist-packages (from matplotlib>=2.0.0->earthpy) (24.2)\n",
            "Requirement already satisfied: pillow>=8 in /usr/local/lib/python3.11/dist-packages (from matplotlib>=2.0.0->earthpy) (11.1.0)\n",
            "Requirement already satisfied: pyparsing>=2.3.1 in /usr/local/lib/python3.11/dist-packages (from matplotlib>=2.0.0->earthpy) (3.2.3)\n",
            "Requirement already satisfied: python-dateutil>=2.7 in /usr/local/lib/python3.11/dist-packages (from matplotlib>=2.0.0->earthpy) (2.8.2)\n",
            "Requirement already satisfied: pyogrio>=0.7.2 in /usr/local/lib/python3.11/dist-packages (from geopandas->earthpy) (0.10.0)\n",
            "Requirement already satisfied: pandas>=1.4.0 in /usr/local/lib/python3.11/dist-packages (from geopandas->earthpy) (2.2.2)\n",
            "Requirement already satisfied: pyproj>=3.3.0 in /usr/local/lib/python3.11/dist-packages (from geopandas->earthpy) (3.7.1)\n",
            "Requirement already satisfied: shapely>=2.0.0 in /usr/local/lib/python3.11/dist-packages (from geopandas->earthpy) (2.1.0)\n",
            "Requirement already satisfied: affine in /usr/local/lib/python3.11/dist-packages (from rasterio->earthpy) (2.4.0)\n",
            "Requirement already satisfied: attrs in /usr/local/lib/python3.11/dist-packages (from rasterio->earthpy) (25.3.0)\n",
            "Requirement already satisfied: certifi in /usr/local/lib/python3.11/dist-packages (from rasterio->earthpy) (2025.1.31)\n",
            "Requirement already satisfied: click>=4.0 in /usr/local/lib/python3.11/dist-packages (from rasterio->earthpy) (8.1.8)\n",
            "Requirement already satisfied: cligj>=0.5 in /usr/local/lib/python3.11/dist-packages (from rasterio->earthpy) (0.7.2)\n",
            "Requirement already satisfied: click-plugins in /usr/local/lib/python3.11/dist-packages (from rasterio->earthpy) (1.1.1)\n",
            "Requirement already satisfied: charset-normalizer<4,>=2 in /usr/local/lib/python3.11/dist-packages (from requests->earthpy) (3.4.1)\n",
            "Requirement already satisfied: idna<4,>=2.5 in /usr/local/lib/python3.11/dist-packages (from requests->earthpy) (3.10)\n",
            "Requirement already satisfied: urllib3<3,>=1.21.1 in /usr/local/lib/python3.11/dist-packages (from requests->earthpy) (2.3.0)\n",
            "Requirement already satisfied: scipy>=1.11.4 in /usr/local/lib/python3.11/dist-packages (from scikit-image->earthpy) (1.14.1)\n",
            "Requirement already satisfied: networkx>=3.0 in /usr/local/lib/python3.11/dist-packages (from scikit-image->earthpy) (3.4.2)\n",
            "Requirement already satisfied: imageio!=2.35.0,>=2.33 in /usr/local/lib/python3.11/dist-packages (from scikit-image->earthpy) (2.37.0)\n",
            "Requirement already satisfied: tifffile>=2022.8.12 in /usr/local/lib/python3.11/dist-packages (from scikit-image->earthpy) (2025.3.30)\n",
            "Requirement already satisfied: lazy-loader>=0.4 in /usr/local/lib/python3.11/dist-packages (from scikit-image->earthpy) (0.4)\n",
            "Requirement already satisfied: pytz>=2020.1 in /usr/local/lib/python3.11/dist-packages (from pandas>=1.4.0->geopandas->earthpy) (2025.2)\n",
            "Requirement already satisfied: tzdata>=2022.7 in /usr/local/lib/python3.11/dist-packages (from pandas>=1.4.0->geopandas->earthpy) (2025.2)\n",
            "Requirement already satisfied: six>=1.5 in /usr/local/lib/python3.11/dist-packages (from python-dateutil>=2.7->matplotlib>=2.0.0->earthpy) (1.17.0)\n",
            "Downloading earthpy-0.9.4-py3-none-any.whl (1.4 MB)\n",
            "\u001b[2K   \u001b[90m━━━━━━━━━━━━━━━━━━━━━━━━━━━━━━━━━━━━━━━━\u001b[0m \u001b[32m1.4/1.4 MB\u001b[0m \u001b[31m18.4 MB/s\u001b[0m eta \u001b[36m0:00:00\u001b[0m\n",
            "\u001b[?25hInstalling collected packages: earthpy\n",
            "Successfully installed earthpy-0.9.4\n"
          ]
        }
      ]
    },
    {
      "cell_type": "markdown",
      "source": [
        "### Import libraries"
      ],
      "metadata": {
        "id": "agnbkZrWkdWO"
      }
    },
    {
      "cell_type": "code",
      "execution_count": null,
      "metadata": {
        "id": "n8X3zdcPnIdv"
      },
      "outputs": [],
      "source": [
        "# Import libraries\n",
        "import rasterio\n",
        "import earthpy.plot as ep\n",
        "import pandas as pd\n",
        "import numpy as np\n",
        "import matplotlib.pyplot as plt\n",
        "import tensorflow as tf\n",
        "from sklearn.model_selection import train_test_split\n",
        "from sklearn.preprocessing import MinMaxScaler\n",
        "from sklearn.metrics import mean_squared_error, r2_score\n",
        "from tensorflow.keras.models import Model\n",
        "from tensorflow.keras.layers import Input, Conv1D, Flatten, Dense, Dropout, BatchNormalization"
      ]
    },
    {
      "cell_type": "code",
      "source": [
        "# Mount Google Drive\n",
        "from google.colab import drive\n",
        "drive.mount('/content/drive')"
      ],
      "metadata": {
        "colab": {
          "base_uri": "https://localhost:8080/"
        },
        "id": "QtX0EzJX6EU5",
        "outputId": "b229eb7f-7cc5-4603-e7ea-aa752353a40f"
      },
      "execution_count": null,
      "outputs": [
        {
          "output_type": "stream",
          "name": "stdout",
          "text": [
            "Mounted at /content/drive\n"
          ]
        }
      ]
    },
    {
      "cell_type": "markdown",
      "source": [
        "## Load and prepare data\n",
        "### Define variables and data paths"
      ],
      "metadata": {
        "id": "tgFrkzAkflo7"
      }
    },
    {
      "cell_type": "code",
      "source": [
        "# Define predictor and target variables, and the data paths\n",
        "FEATURES = ['B2', 'B3', 'B4', 'B5', 'B6', 'B7', 'B8', 'B11', 'B12', 'NDVI', 'SAVI', 'RESI']\n",
        "LABEL = ['agbd']\n",
        "SAMPLE_PATH = '/content/drive/My Drive/Maf_Datasets/TA_AGDD_GEDI_L4A_2022.csv' # With filtered agbd\n",
        "IMAGE_PATH = '/content/drive/My Drive/Maf_Datasets/S2_predictors_2022.tif'"
      ],
      "metadata": {
        "id": "TdkSnVNC4uM4"
      },
      "execution_count": null,
      "outputs": []
    },
    {
      "cell_type": "markdown",
      "source": [
        "### Load and visualize Sentinel-2 image"
      ],
      "metadata": {
        "id": "IAUl8Sv1f0nH"
      }
    },
    {
      "cell_type": "code",
      "source": [
        "# Load image\n",
        "image = rasterio.open(IMAGE_PATH)\n",
        "bandNum = image.count\n",
        "height = image.height\n",
        "width = image.width\n",
        "crs = image.crs\n",
        "transform = image.transform\n",
        "shape = (height, width)\n",
        "\n",
        "image_vis = []\n",
        "for x in [5, 6, 4]:\n",
        "  image_vis.append(image.read(x))\n",
        "image_vis = np.stack(image_vis)\n",
        "\n",
        "plot_size = (8, 8)\n",
        "ep.plot_rgb(\n",
        "  image_vis,\n",
        "  figsize=plot_size,\n",
        "  stretch=True,\n",
        ")"
      ],
      "metadata": {
        "id": "LWVstj8mDD9_"
      },
      "execution_count": null,
      "outputs": []
    },
    {
      "cell_type": "markdown",
      "source": [
        "##  Load sample data"
      ],
      "metadata": {
        "id": "ueWhiyrRf4a4"
      }
    },
    {
      "cell_type": "code",
      "source": [
        "# Read sample\n",
        "samples = pd.read_csv(SAMPLE_PATH)[FEATURES + LABEL]\n",
        "samples"
      ],
      "metadata": {
        "id": "wv2b2FVq6CYT"
      },
      "execution_count": null,
      "outputs": []
    },
    {
      "cell_type": "markdown",
      "source": [
        "## Split and prepare data"
      ],
      "metadata": {
        "id": "FN1d7rWDf-IH"
      }
    },
    {
      "cell_type": "code",
      "source": [
        "# Scale input features\n",
        "scaler = MinMaxScaler()\n",
        "samples[FEATURES] = scaler.fit_transform(samples[FEATURES])\n",
        "\n",
        "# Extract features and label\n",
        "X = samples[FEATURES].values\n",
        "y = samples[LABEL].values\n",
        "\n",
        "# Reshape features to (samples, features, 1) for Conv1D\n",
        "X = X.reshape((X.shape[0], X.shape[1], 1))\n",
        "\n",
        "# Train-test split\n",
        "X_train, X_test, y_train, y_test = train_test_split(X, y, test_size=0.2, random_state=42)"
      ],
      "metadata": {
        "id": "pi-f1fdrz1p-"
      },
      "execution_count": null,
      "outputs": []
    },
    {
      "cell_type": "markdown",
      "source": [
        "## Build and train sequential deep learning model\n",
        "### Model architecture"
      ],
      "metadata": {
        "id": "K7xtUOabgD5k"
      }
    },
    {
      "cell_type": "code",
      "source": [
        "# Define 1D CNN Model\n",
        "input_layer = Input(shape=(X.shape[1], 1))\n",
        "\n",
        "x = Conv1D(filters=64, kernel_size=2, activation='relu')(input_layer)\n",
        "x = BatchNormalization()(x)\n",
        "x = Conv1D(filters=32, kernel_size=2, activation='relu')(x)\n",
        "x = Dropout(0.3)(x)\n",
        "x = Flatten()(x)\n",
        "x = Dense(64, activation='relu')(x)\n",
        "x = Dropout(0.2)(x)\n",
        "output = Dense(1)(x)\n",
        "\n",
        "model = Model(inputs=input_layer, outputs=output)"
      ],
      "metadata": {
        "id": "knB_T1LEw9Io"
      },
      "execution_count": null,
      "outputs": []
    },
    {
      "cell_type": "markdown",
      "source": [
        "### Display the Keras model"
      ],
      "metadata": {
        "id": "ChQUAn7W1xLw"
      }
    },
    {
      "cell_type": "code",
      "source": [
        "# Import the utility function to visualize Keras models\n",
        "from tensorflow.keras.utils import plot_model\n",
        "# Generate a visual representation of the Keras model architecture\n",
        "plot_model(model, show_shapes=True, show_layer_names=True, dpi=70)"
      ],
      "metadata": {
        "id": "kOYD_x7ccy6K"
      },
      "execution_count": null,
      "outputs": []
    },
    {
      "cell_type": "markdown",
      "source": [
        "## Compile the model"
      ],
      "metadata": {
        "id": "kz9Km-NrgUuF"
      }
    },
    {
      "cell_type": "code",
      "source": [
        "# Compile\n",
        "model.compile(\n",
        "    optimizer='adam',\n",
        "    loss='mse',\n",
        "    metrics=[tf.keras.metrics.RootMeanSquaredError(name='rmse')]\n",
        ")"
      ],
      "metadata": {
        "id": "1D9KX8ur04yv"
      },
      "execution_count": null,
      "outputs": []
    },
    {
      "cell_type": "markdown",
      "source": [
        "## Train the model"
      ],
      "metadata": {
        "id": "QPGZmkk31EvV"
      }
    },
    {
      "cell_type": "code",
      "source": [
        "# Train the Model\n",
        "early_stop = tf.keras.callbacks.EarlyStopping(\n",
        "    monitor='val_loss',\n",
        "    patience=20,\n",
        "    restore_best_weights=True\n",
        ")\n",
        "\n",
        "history = model.fit(\n",
        "    X_train, y_train,\n",
        "    validation_data=(X_test, y_test),\n",
        "    batch_size=32,\n",
        "    epochs=300,\n",
        "    callbacks=[early_stop],\n",
        "    verbose=1\n",
        ")"
      ],
      "metadata": {
        "id": "HxP8LMV1iUfo"
      },
      "execution_count": null,
      "outputs": []
    },
    {
      "cell_type": "markdown",
      "source": [
        "## Evaluate model performance\n",
        "### Training curves"
      ],
      "metadata": {
        "id": "a0VtcY1egrqK"
      }
    },
    {
      "cell_type": "code",
      "source": [
        "# Plot Training History\n",
        "history_df = pd.DataFrame(history.history)\n",
        "plt.figure(figsize=(10, 6))\n",
        "plt.plot(history_df['rmse'], label='Train RMSE')\n",
        "plt.plot(history_df['val_rmse'], label='Validation RMSE')\n",
        "plt.xlabel('Epochs')\n",
        "plt.ylabel('RMSE')\n",
        "plt.title('Training and Validation RMSE')\n",
        "plt.legend()\n",
        "plt.grid(True)\n",
        "plt.show()"
      ],
      "metadata": {
        "id": "wCaxj39zxZkh"
      },
      "execution_count": null,
      "outputs": []
    },
    {
      "cell_type": "markdown",
      "source": [
        "### Test data evaluation"
      ],
      "metadata": {
        "id": "2TK_g8HZgwpu"
      }
    },
    {
      "cell_type": "code",
      "source": [
        "# Evaluate the Model\n",
        "y_pred = model.predict(X_test).flatten()\n",
        "\n",
        "r2 = r2_score(y_test, y_pred)\n",
        "mse = mean_squared_error(y_test, y_pred)\n",
        "rmse = np.sqrt(mse)\n",
        "\n",
        "print(f\"\\n 1D CNN Model Evaluation\")\n",
        "print(f\"R² Score: {r2:.3f}\")\n",
        "print(f\"MSE: {mse:.3f}\")\n",
        "print(f\"RMSE: {rmse:.3f}\")"
      ],
      "metadata": {
        "colab": {
          "base_uri": "https://localhost:8080/"
        },
        "id": "fvFlXw_Kxgu7",
        "outputId": "4974a168-5a81-4755-956e-a17b609297e0"
      },
      "execution_count": null,
      "outputs": [
        {
          "output_type": "stream",
          "name": "stdout",
          "text": [
            "\u001b[1m327/327\u001b[0m \u001b[32m━━━━━━━━━━━━━━━━━━━━\u001b[0m\u001b[37m\u001b[0m \u001b[1m0s\u001b[0m 1ms/step\n",
            "\n",
            " 1D CNN Model Evaluation\n",
            "R² Score: 0.508\n",
            "MSE: 0.032\n",
            "RMSE: 0.179\n"
          ]
        }
      ]
    },
    {
      "cell_type": "markdown",
      "source": [
        "### Plot predictions vs. true values"
      ],
      "metadata": {
        "id": "6Wg7btTlxlAa"
      }
    },
    {
      "cell_type": "code",
      "source": [
        "# Plot Prediction vs. True\n",
        "plt.figure(figsize=(7, 7))\n",
        "plt.scatter(y_test, y_pred, alpha=0.5, edgecolor='k')\n",
        "plt.plot([y_test.min(), y_test.max()], [y_test.min(), y_test.max()], 'r--')\n",
        "plt.xlabel('True AGBD (Mg/ha)')\n",
        "plt.ylabel('Predicted AGBD (Mg/ha)')\n",
        "plt.title('1D CNN: True vs Predicted AGBD')\n",
        "plt.grid(True)\n",
        "plt.show()"
      ],
      "metadata": {
        "id": "X3B6Lwf8xlac"
      },
      "execution_count": null,
      "outputs": []
    },
    {
      "cell_type": "markdown",
      "source": [
        "## Predict AGBD map"
      ],
      "metadata": {
        "id": "QgDHttvrg_nb"
      }
    },
    {
      "cell_type": "code",
      "source": [
        "# Read all 12 bands from image\n",
        "image_input = []\n",
        "for x in range(12):  # assuming 12 features used for training\n",
        "    image_input.append(image.read(x + 1))  # rasterio is 1-indexed\n",
        "\n",
        "image_input = np.stack(image_input)  # shape: (12, H, W)\n",
        "image_input_flat = image_input.reshape(12, -1).T  # shape: (H*W, 12)\n",
        "image_input_cnn = image_input_flat.reshape(-1, 12, 1)  # shape: (H*W, 12, 1)\n",
        "\n",
        "# Predict in batches\n",
        "prediction_flat = model.predict(image_input_cnn, batch_size=4096) * 90  # back to original AGBD scale\n",
        "prediction_map = prediction_flat.reshape(shape[0], shape[1])\n",
        "\n",
        "# Visualize\n",
        "ep.plot_bands(prediction_map, cmap='YlGn', figsize=(10, 10), title='Predicted AGBD Map (1D CNN)')"
      ],
      "metadata": {
        "id": "L_xXDxOW0OO7"
      },
      "execution_count": null,
      "outputs": []
    },
    {
      "cell_type": "markdown",
      "source": [
        "## Save AGB map"
      ],
      "metadata": {
        "id": "uQ5AssxzhH8H"
      }
    },
    {
      "cell_type": "code",
      "source": [
        "# Save file to drive\n",
        "output_path = '/content/drive/MyDrive/Maf_Datasets/AGBD_1DCNN_2022.tif'\n",
        "\n",
        "with rasterio.open(\n",
        "    output_path,\n",
        "    'w',\n",
        "    driver='GTiff',\n",
        "    height=shape[0],\n",
        "    width=shape[1],\n",
        "    count=1,\n",
        "    dtype='float32',\n",
        "    crs=image.crs,\n",
        "    transform=image.transform\n",
        ") as dst:\n",
        "    dst.write(prediction_map.astype('float32'), 1)\n",
        "\n",
        "print(f\"Saved AGBD prediction map to: {output_path}\")"
      ],
      "metadata": {
        "id": "Xo7oD4FgIeIG",
        "colab": {
          "base_uri": "https://localhost:8080/"
        },
        "outputId": "5b4bc015-6942-4941-a627-6ea3e93c4ccf"
      },
      "execution_count": null,
      "outputs": [
        {
          "output_type": "stream",
          "name": "stdout",
          "text": [
            "✔️ Saved AGBD prediction map to: /content/drive/MyDrive/Maf_Datasets/AGBD_1DCNN_2022.tif\n"
          ]
        }
      ]
    }
  ]
}